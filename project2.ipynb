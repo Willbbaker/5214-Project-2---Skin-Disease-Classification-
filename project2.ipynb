{
 "cells": [
  {
   "cell_type": "code",
   "execution_count": 1,
   "metadata": {},
   "outputs": [],
   "source": [
    "# I'm not sure whether all of these modules/libraries will be needed.\n",
    "# But all of them could potentially be relevant. So I just have them all here for now.\n",
    "import tensorflow as tf\n",
    "import tensorflow_hub as hub\n",
    "import matplotlib.pyplot as plt\n",
    "import numpy as np\n",
    "import pandas as pd\n",
    "import seaborn as sns\n",
    "from tensorflow.keras.utils import get_file\n",
    "from sklearn.metrics import roc_curve, auc, confusion_matrix\n",
    "from imblearn.metrics import sensitivity_score, specificity_score\n",
    "import os\n",
    "import glob\n",
    "import zipfile\n",
    "import random\n",
    "import shutil\n",
    "from shutil import move"
   ]
  },
  {
   "cell_type": "code",
   "execution_count": 2,
   "metadata": {},
   "outputs": [],
   "source": [
    "# This section of code can be used to separate all of the images into folders according to the types\n",
    "# of skin disease.\n",
    "# The relevant import commands (from above) that are needed for this section of code are as follows:\n",
    "# import pandas as pd\n",
    "# import shutil\n",
    "# from shutil import move\n",
    "# import os\n",
    "\n",
    "# Before running the code in this section, you should do the following on your computer:\n",
    "# First, create a new folder called 'ImagesCombined' within the main data folder (note: I renamed the\n",
    "# main data folder 'Project2_data').\n",
    "# Second, place all of the images from both HAM10000_images_part_1 and HAM10000_images_part_2 into\n",
    "# the new folder that we called 'ImagesCombined'.\n",
    "# Third, create another new folder called 'Categories' within the main Project2_data folder, and leave it empty.\n",
    "\n",
    "os.chdir('/Users/blakemyers/Desktop/Jupyter/Project2_data/') # Place the path name of the main data folder here\n",
    "df = pd.read_csv('HAM10000_metadata.csv')\n",
    "all_images = os.listdir('ImagesCombined')\n",
    "\n",
    "for image in all_images:\n",
    "    skinType = df[df['image_id'] + '.jpg' == image]['dx']\n",
    "    skinType = str(list(skinType)[0])\n",
    "    if not os.path.exists(os.path.join('Categories', skinType)):\n",
    "        os.mkdir(os.path.join('Categories', skinType))\n",
    "    path_from = os.path.join('ImagesCombined', image)\n",
    "    path_to = os.path.join('Categories', skinType, image)\n",
    "    move(path_from, path_to)"
   ]
  }
 ],
 "metadata": {
  "kernelspec": {
   "display_name": "Python 3",
   "language": "python",
   "name": "python3"
  },
  "language_info": {
   "codemirror_mode": {
    "name": "ipython",
    "version": 3
   },
   "file_extension": ".py",
   "mimetype": "text/x-python",
   "name": "python",
   "nbconvert_exporter": "python",
   "pygments_lexer": "ipython3",
   "version": "3.7.9"
  }
 },
 "nbformat": 4,
 "nbformat_minor": 2
}
